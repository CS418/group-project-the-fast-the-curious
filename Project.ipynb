{
 "cells": [
  {
   "cell_type": "code",
   "execution_count": 1,
   "id": "eac9e7d2",
   "metadata": {},
   "outputs": [],
   "source": [
    "import requests"
   ]
  },
  {
   "cell_type": "code",
   "execution_count": 2,
   "id": "4fd5225b",
   "metadata": {},
   "outputs": [],
   "source": [
    "url = \"https://meteostat.p.rapidapi.com/stations/daily\""
   ]
  },
  {
   "cell_type": "code",
   "execution_count": 3,
   "id": "ca4c4cfe",
   "metadata": {},
   "outputs": [],
   "source": [
    "querystring = {\"station\":\"KPWK0\",\"start\":\"2012-01-01\",\"end\":\"2021-01-01\",\"model\":\"true\",\"units\":\"imperial\"}"
   ]
  },
  {
   "cell_type": "code",
   "execution_count": 4,
   "id": "9d7b0e88",
   "metadata": {},
   "outputs": [],
   "source": [
    "headers = {\n",
    "\t\"X-RapidAPI-Key\": \"6fec950325msha54f5bc890b65e0p1fd8d0jsnc882976e1304\",\n",
    "\t\"X-RapidAPI-Host\": \"meteostat.p.rapidapi.com\"\n",
    "}"
   ]
  },
  {
   "cell_type": "code",
   "execution_count": 5,
   "id": "d91e6d24",
   "metadata": {},
   "outputs": [],
   "source": [
    "response = requests.request(\"GET\", url, headers=headers, params=querystring)"
   ]
  },
  {
   "cell_type": "code",
   "execution_count": 7,
   "id": "625050ed",
   "metadata": {},
   "outputs": [],
   "source": [
    "json = response.json()"
   ]
  },
  {
   "cell_type": "code",
   "execution_count": 9,
   "id": "c33fb964",
   "metadata": {},
   "outputs": [],
   "source": [
    "import pandas as pd"
   ]
  },
  {
   "cell_type": "code",
   "execution_count": 10,
   "id": "3d74a5eb",
   "metadata": {},
   "outputs": [
    {
     "data": {
      "text/plain": [
       "list"
      ]
     },
     "execution_count": 10,
     "metadata": {},
     "output_type": "execute_result"
    }
   ],
   "source": [
    "type(json['data'])"
   ]
  },
  {
   "cell_type": "code",
   "execution_count": 11,
   "id": "260e686c",
   "metadata": {},
   "outputs": [
    {
     "data": {
      "text/plain": [
       "dict"
      ]
     },
     "execution_count": 11,
     "metadata": {},
     "output_type": "execute_result"
    }
   ],
   "source": [
    "type(json['data'][0])"
   ]
  },
  {
   "cell_type": "code",
   "execution_count": 12,
   "id": "bafa0493",
   "metadata": {},
   "outputs": [],
   "source": [
    "df = pd.DataFrame(json['data'])"
   ]
  },
  {
   "cell_type": "code",
   "execution_count": 13,
   "id": "87b48ec1",
   "metadata": {},
   "outputs": [
    {
     "data": {
      "text/html": [
       "<div>\n",
       "<style scoped>\n",
       "    .dataframe tbody tr th:only-of-type {\n",
       "        vertical-align: middle;\n",
       "    }\n",
       "\n",
       "    .dataframe tbody tr th {\n",
       "        vertical-align: top;\n",
       "    }\n",
       "\n",
       "    .dataframe thead th {\n",
       "        text-align: right;\n",
       "    }\n",
       "</style>\n",
       "<table border=\"1\" class=\"dataframe\">\n",
       "  <thead>\n",
       "    <tr style=\"text-align: right;\">\n",
       "      <th></th>\n",
       "      <th>date</th>\n",
       "      <th>tavg</th>\n",
       "      <th>tmin</th>\n",
       "      <th>tmax</th>\n",
       "      <th>prcp</th>\n",
       "      <th>snow</th>\n",
       "      <th>wdir</th>\n",
       "      <th>wspd</th>\n",
       "      <th>wpgt</th>\n",
       "      <th>pres</th>\n",
       "      <th>tsun</th>\n",
       "    </tr>\n",
       "  </thead>\n",
       "  <tbody>\n",
       "    <tr>\n",
       "      <th>0</th>\n",
       "      <td>2012-01-01</td>\n",
       "      <td>36.7</td>\n",
       "      <td>30.9</td>\n",
       "      <td>45.0</td>\n",
       "      <td>NaN</td>\n",
       "      <td>None</td>\n",
       "      <td>268.0</td>\n",
       "      <td>17.2</td>\n",
       "      <td>None</td>\n",
       "      <td>NaN</td>\n",
       "      <td>None</td>\n",
       "    </tr>\n",
       "    <tr>\n",
       "      <th>1</th>\n",
       "      <td>2012-01-02</td>\n",
       "      <td>23.2</td>\n",
       "      <td>18.0</td>\n",
       "      <td>30.0</td>\n",
       "      <td>NaN</td>\n",
       "      <td>None</td>\n",
       "      <td>315.0</td>\n",
       "      <td>17.2</td>\n",
       "      <td>None</td>\n",
       "      <td>NaN</td>\n",
       "      <td>None</td>\n",
       "    </tr>\n",
       "    <tr>\n",
       "      <th>2</th>\n",
       "      <td>2012-01-03</td>\n",
       "      <td>21.2</td>\n",
       "      <td>12.9</td>\n",
       "      <td>28.0</td>\n",
       "      <td>0.000</td>\n",
       "      <td>None</td>\n",
       "      <td>NaN</td>\n",
       "      <td>9.3</td>\n",
       "      <td>None</td>\n",
       "      <td>1027.0</td>\n",
       "      <td>None</td>\n",
       "    </tr>\n",
       "    <tr>\n",
       "      <th>3</th>\n",
       "      <td>2012-01-04</td>\n",
       "      <td>33.3</td>\n",
       "      <td>26.1</td>\n",
       "      <td>41.0</td>\n",
       "      <td>0.000</td>\n",
       "      <td>None</td>\n",
       "      <td>NaN</td>\n",
       "      <td>7.9</td>\n",
       "      <td>None</td>\n",
       "      <td>1016.3</td>\n",
       "      <td>None</td>\n",
       "    </tr>\n",
       "    <tr>\n",
       "      <th>4</th>\n",
       "      <td>2012-01-05</td>\n",
       "      <td>38.5</td>\n",
       "      <td>25.0</td>\n",
       "      <td>50.0</td>\n",
       "      <td>0.000</td>\n",
       "      <td>None</td>\n",
       "      <td>NaN</td>\n",
       "      <td>6.7</td>\n",
       "      <td>None</td>\n",
       "      <td>1012.5</td>\n",
       "      <td>None</td>\n",
       "    </tr>\n",
       "    <tr>\n",
       "      <th>...</th>\n",
       "      <td>...</td>\n",
       "      <td>...</td>\n",
       "      <td>...</td>\n",
       "      <td>...</td>\n",
       "      <td>...</td>\n",
       "      <td>...</td>\n",
       "      <td>...</td>\n",
       "      <td>...</td>\n",
       "      <td>...</td>\n",
       "      <td>...</td>\n",
       "      <td>...</td>\n",
       "    </tr>\n",
       "    <tr>\n",
       "      <th>3284</th>\n",
       "      <td>2020-12-28</td>\n",
       "      <td>30.0</td>\n",
       "      <td>21.9</td>\n",
       "      <td>35.1</td>\n",
       "      <td>0.000</td>\n",
       "      <td>None</td>\n",
       "      <td>296.0</td>\n",
       "      <td>10.4</td>\n",
       "      <td>None</td>\n",
       "      <td>1024.9</td>\n",
       "      <td>None</td>\n",
       "    </tr>\n",
       "    <tr>\n",
       "      <th>3285</th>\n",
       "      <td>2020-12-29</td>\n",
       "      <td>25.7</td>\n",
       "      <td>18.0</td>\n",
       "      <td>32.0</td>\n",
       "      <td>NaN</td>\n",
       "      <td>None</td>\n",
       "      <td>145.0</td>\n",
       "      <td>6.3</td>\n",
       "      <td>None</td>\n",
       "      <td>NaN</td>\n",
       "      <td>None</td>\n",
       "    </tr>\n",
       "    <tr>\n",
       "      <th>3286</th>\n",
       "      <td>2020-12-30</td>\n",
       "      <td>32.0</td>\n",
       "      <td>27.0</td>\n",
       "      <td>36.0</td>\n",
       "      <td>0.291</td>\n",
       "      <td>None</td>\n",
       "      <td>246.0</td>\n",
       "      <td>13.3</td>\n",
       "      <td>None</td>\n",
       "      <td>1014.2</td>\n",
       "      <td>None</td>\n",
       "    </tr>\n",
       "    <tr>\n",
       "      <th>3287</th>\n",
       "      <td>2020-12-31</td>\n",
       "      <td>24.8</td>\n",
       "      <td>19.0</td>\n",
       "      <td>28.0</td>\n",
       "      <td>NaN</td>\n",
       "      <td>None</td>\n",
       "      <td>288.0</td>\n",
       "      <td>4.0</td>\n",
       "      <td>None</td>\n",
       "      <td>NaN</td>\n",
       "      <td>None</td>\n",
       "    </tr>\n",
       "    <tr>\n",
       "      <th>3288</th>\n",
       "      <td>2021-01-01</td>\n",
       "      <td>30.0</td>\n",
       "      <td>19.0</td>\n",
       "      <td>36.0</td>\n",
       "      <td>NaN</td>\n",
       "      <td>None</td>\n",
       "      <td>28.0</td>\n",
       "      <td>7.8</td>\n",
       "      <td>None</td>\n",
       "      <td>NaN</td>\n",
       "      <td>None</td>\n",
       "    </tr>\n",
       "  </tbody>\n",
       "</table>\n",
       "<p>3289 rows × 11 columns</p>\n",
       "</div>"
      ],
      "text/plain": [
       "            date  tavg  tmin  tmax   prcp  snow   wdir  wspd  wpgt    pres  \\\n",
       "0     2012-01-01  36.7  30.9  45.0    NaN  None  268.0  17.2  None     NaN   \n",
       "1     2012-01-02  23.2  18.0  30.0    NaN  None  315.0  17.2  None     NaN   \n",
       "2     2012-01-03  21.2  12.9  28.0  0.000  None    NaN   9.3  None  1027.0   \n",
       "3     2012-01-04  33.3  26.1  41.0  0.000  None    NaN   7.9  None  1016.3   \n",
       "4     2012-01-05  38.5  25.0  50.0  0.000  None    NaN   6.7  None  1012.5   \n",
       "...          ...   ...   ...   ...    ...   ...    ...   ...   ...     ...   \n",
       "3284  2020-12-28  30.0  21.9  35.1  0.000  None  296.0  10.4  None  1024.9   \n",
       "3285  2020-12-29  25.7  18.0  32.0    NaN  None  145.0   6.3  None     NaN   \n",
       "3286  2020-12-30  32.0  27.0  36.0  0.291  None  246.0  13.3  None  1014.2   \n",
       "3287  2020-12-31  24.8  19.0  28.0    NaN  None  288.0   4.0  None     NaN   \n",
       "3288  2021-01-01  30.0  19.0  36.0    NaN  None   28.0   7.8  None     NaN   \n",
       "\n",
       "      tsun  \n",
       "0     None  \n",
       "1     None  \n",
       "2     None  \n",
       "3     None  \n",
       "4     None  \n",
       "...    ...  \n",
       "3284  None  \n",
       "3285  None  \n",
       "3286  None  \n",
       "3287  None  \n",
       "3288  None  \n",
       "\n",
       "[3289 rows x 11 columns]"
      ]
     },
     "execution_count": 13,
     "metadata": {},
     "output_type": "execute_result"
    }
   ],
   "source": [
    "df"
   ]
  },
  {
   "cell_type": "code",
   "execution_count": null,
   "id": "267ac9d6",
   "metadata": {},
   "outputs": [],
   "source": []
  }
 ],
 "metadata": {
  "kernelspec": {
   "display_name": "Python 3 (ipykernel)",
   "language": "python",
   "name": "python3"
  },
  "language_info": {
   "codemirror_mode": {
    "name": "ipython",
    "version": 3
   },
   "file_extension": ".py",
   "mimetype": "text/x-python",
   "name": "python",
   "nbconvert_exporter": "python",
   "pygments_lexer": "ipython3",
   "version": "3.9.7"
  }
 },
 "nbformat": 4,
 "nbformat_minor": 5
}
