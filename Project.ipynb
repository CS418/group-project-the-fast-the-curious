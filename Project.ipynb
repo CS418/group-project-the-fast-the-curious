{
 "cells": [
  {
   "cell_type": "markdown",
   "id": "4e1587c6",
   "metadata": {},
   "source": [
    "# The Fast & The Curious - Project Report <br>\n"
   ]
  },
  {
   "cell_type": "markdown",
   "id": "f7e9fc35",
   "metadata": {},
   "source": [
    "Github Link - https://github.com/CS418/group-project-the-fast-the-curious"
   ]
  },
  {
   "cell_type": "markdown",
   "id": "25ddad96",
   "metadata": {},
   "source": [
    "### Members: \n",
    "&emsp; Georgi Nikolov<br>\n",
    "&emsp; Daniel Valencia<br>\n",
    "&emsp; Lizbeth Gutierrez<br>\n",
    "&emsp; Jovad Uribe<br>\n"
   ]
  },
  {
   "cell_type": "markdown",
   "id": "7ac0b7b8",
   "metadata": {},
   "source": [
    "### Project Sections:\n",
    "&emsp; Section 1: Project Introduction <br>\n",
    "&emsp; Section 2: Changes to Project Thus Far <br>\n",
    "&emsp; Section 3: Data Cleaning <br>\n",
    "&emsp; Section 4: Exploratory Data Analysis <br>\n",
    "&emsp; Section 5: Visualization <br>\n",
    "&emsp; Section 6: Machine Learning Analysis <br>\n",
    "&emsp; Section 7: Reflection <br>\n",
    "&emsp; Section 8: Next Steps <br>\n",
    "\n",
    "\n"
   ]
  },
  {
   "cell_type": "markdown",
   "id": "07702ddb",
   "metadata": {},
   "source": [
    "## Section 1: Project Introduction"
   ]
  },
  {
   "cell_type": "markdown",
   "id": "024992c9",
   "metadata": {},
   "source": [
    "As of this moment we have four different goals that we could like to accomplish and they are as follows:\n",
    "\n",
    "1. We want to analyze weather data in order to make predictions about adverse weather conditions.\n",
    "2. Climate change has caused weather patterns to become more severe and dangerous over the last few years.\n",
    "3. Having access to more accurate weather predictions would allow for advanced warnings and help people escape potentially dangerous weather conditions.\n",
    "4. We chose to investigate this topic because it is highly relevant to today’s world and severe weather will only get stronger as time goes on.\n",
    "<br>\n",
    "\n",
    "Ideally we will accomplish these goals via the following methodologies:<br>\n",
    "> A Visualization that intends to look at temperature changes over the course of an entire year here in Chicago.\n",
    "> A Machine learning implementation that will predict precipitation based on data relating to air pressure and temperature.\n",
    "> A Scatterplot to investigate if sea level air pressure relates to the average wind speed of a given area.\n",
    "> An Histogram of weather condition codes to give insight into various meteorological tendencies  .\n",
    "\n",
    "\n",
    "Generally speaking we will be using **MeteoStat** for our data collection<br>\n",
    "1. API that connects to different weather stations around the world\n",
    "2. Able to access historical data via independent weather stations \n",
    "3. Free for use in development (no license required)\n",
    "4. Independent Python library compatible with Pandas\n",
    "\n",
    "\n"
   ]
  },
  {
   "cell_type": "markdown",
   "id": "92a31201",
   "metadata": {},
   "source": [
    "## Section 2: Changes to Project (From Check-in) <br>"
   ]
  },
  {
   "cell_type": "markdown",
   "id": "1046b9e3",
   "metadata": {},
   "source": [
    "As of this moment in time there are no major changes that were made between the time of submission of the presentation slides and check-in compared to now. We overall kept the same plan and tried our best to solve and implement the goals we had set for ourselves and this data."
   ]
  },
  {
   "cell_type": "markdown",
   "id": "6acdcd26",
   "metadata": {},
   "source": [
    "## Section 3: Data Cleaning <br>"
   ]
  },
  {
   "cell_type": "markdown",
   "id": "471edb05",
   "metadata": {},
   "source": [
    "First, we requested our data using the Meteostat JSON API which retrieved 9 years of weather data from the weather station closest to Chicago. This dataset used imperial units for measurements and represented the time period of 01/01/2012 - 01/01/2021. This dataset was then loaded into a dataframe (df). The initial dataset is displayed below to show how it looked prior to being cleaned."
   ]
  },
  {
   "cell_type": "code",
   "execution_count": 19,
   "id": "267ac9d6",
   "metadata": {},
   "outputs": [
    {
     "data": {
      "text/html": [
       "<div>\n",
       "<style scoped>\n",
       "    .dataframe tbody tr th:only-of-type {\n",
       "        vertical-align: middle;\n",
       "    }\n",
       "\n",
       "    .dataframe tbody tr th {\n",
       "        vertical-align: top;\n",
       "    }\n",
       "\n",
       "    .dataframe thead th {\n",
       "        text-align: right;\n",
       "    }\n",
       "</style>\n",
       "<table border=\"1\" class=\"dataframe\">\n",
       "  <thead>\n",
       "    <tr style=\"text-align: right;\">\n",
       "      <th></th>\n",
       "      <th>date</th>\n",
       "      <th>tavg</th>\n",
       "      <th>tmin</th>\n",
       "      <th>tmax</th>\n",
       "      <th>prcp</th>\n",
       "      <th>snow</th>\n",
       "      <th>wdir</th>\n",
       "      <th>wspd</th>\n",
       "      <th>wpgt</th>\n",
       "      <th>pres</th>\n",
       "      <th>tsun</th>\n",
       "    </tr>\n",
       "  </thead>\n",
       "  <tbody>\n",
       "    <tr>\n",
       "      <th>0</th>\n",
       "      <td>2012-01-01</td>\n",
       "      <td>36.7</td>\n",
       "      <td>30.9</td>\n",
       "      <td>45.0</td>\n",
       "      <td>NaN</td>\n",
       "      <td>None</td>\n",
       "      <td>268.0</td>\n",
       "      <td>17.2</td>\n",
       "      <td>None</td>\n",
       "      <td>NaN</td>\n",
       "      <td>None</td>\n",
       "    </tr>\n",
       "    <tr>\n",
       "      <th>1</th>\n",
       "      <td>2012-01-02</td>\n",
       "      <td>23.2</td>\n",
       "      <td>18.0</td>\n",
       "      <td>30.0</td>\n",
       "      <td>NaN</td>\n",
       "      <td>None</td>\n",
       "      <td>315.0</td>\n",
       "      <td>17.2</td>\n",
       "      <td>None</td>\n",
       "      <td>NaN</td>\n",
       "      <td>None</td>\n",
       "    </tr>\n",
       "    <tr>\n",
       "      <th>2</th>\n",
       "      <td>2012-01-03</td>\n",
       "      <td>21.2</td>\n",
       "      <td>12.9</td>\n",
       "      <td>28.0</td>\n",
       "      <td>0.000</td>\n",
       "      <td>None</td>\n",
       "      <td>NaN</td>\n",
       "      <td>9.3</td>\n",
       "      <td>None</td>\n",
       "      <td>1027.0</td>\n",
       "      <td>None</td>\n",
       "    </tr>\n",
       "    <tr>\n",
       "      <th>3</th>\n",
       "      <td>2012-01-04</td>\n",
       "      <td>33.3</td>\n",
       "      <td>26.1</td>\n",
       "      <td>41.0</td>\n",
       "      <td>0.000</td>\n",
       "      <td>None</td>\n",
       "      <td>NaN</td>\n",
       "      <td>7.9</td>\n",
       "      <td>None</td>\n",
       "      <td>1016.3</td>\n",
       "      <td>None</td>\n",
       "    </tr>\n",
       "    <tr>\n",
       "      <th>4</th>\n",
       "      <td>2012-01-05</td>\n",
       "      <td>38.5</td>\n",
       "      <td>25.0</td>\n",
       "      <td>50.0</td>\n",
       "      <td>0.000</td>\n",
       "      <td>None</td>\n",
       "      <td>NaN</td>\n",
       "      <td>6.7</td>\n",
       "      <td>None</td>\n",
       "      <td>1012.5</td>\n",
       "      <td>None</td>\n",
       "    </tr>\n",
       "    <tr>\n",
       "      <th>...</th>\n",
       "      <td>...</td>\n",
       "      <td>...</td>\n",
       "      <td>...</td>\n",
       "      <td>...</td>\n",
       "      <td>...</td>\n",
       "      <td>...</td>\n",
       "      <td>...</td>\n",
       "      <td>...</td>\n",
       "      <td>...</td>\n",
       "      <td>...</td>\n",
       "      <td>...</td>\n",
       "    </tr>\n",
       "    <tr>\n",
       "      <th>3284</th>\n",
       "      <td>2020-12-28</td>\n",
       "      <td>30.0</td>\n",
       "      <td>21.9</td>\n",
       "      <td>35.1</td>\n",
       "      <td>0.000</td>\n",
       "      <td>None</td>\n",
       "      <td>296.0</td>\n",
       "      <td>10.4</td>\n",
       "      <td>None</td>\n",
       "      <td>1024.9</td>\n",
       "      <td>None</td>\n",
       "    </tr>\n",
       "    <tr>\n",
       "      <th>3285</th>\n",
       "      <td>2020-12-29</td>\n",
       "      <td>25.7</td>\n",
       "      <td>18.0</td>\n",
       "      <td>32.0</td>\n",
       "      <td>NaN</td>\n",
       "      <td>None</td>\n",
       "      <td>145.0</td>\n",
       "      <td>6.3</td>\n",
       "      <td>None</td>\n",
       "      <td>NaN</td>\n",
       "      <td>None</td>\n",
       "    </tr>\n",
       "    <tr>\n",
       "      <th>3286</th>\n",
       "      <td>2020-12-30</td>\n",
       "      <td>32.0</td>\n",
       "      <td>27.0</td>\n",
       "      <td>36.0</td>\n",
       "      <td>0.291</td>\n",
       "      <td>None</td>\n",
       "      <td>246.0</td>\n",
       "      <td>13.3</td>\n",
       "      <td>None</td>\n",
       "      <td>1014.2</td>\n",
       "      <td>None</td>\n",
       "    </tr>\n",
       "    <tr>\n",
       "      <th>3287</th>\n",
       "      <td>2020-12-31</td>\n",
       "      <td>24.8</td>\n",
       "      <td>19.0</td>\n",
       "      <td>28.0</td>\n",
       "      <td>NaN</td>\n",
       "      <td>None</td>\n",
       "      <td>288.0</td>\n",
       "      <td>4.0</td>\n",
       "      <td>None</td>\n",
       "      <td>NaN</td>\n",
       "      <td>None</td>\n",
       "    </tr>\n",
       "    <tr>\n",
       "      <th>3288</th>\n",
       "      <td>2021-01-01</td>\n",
       "      <td>30.0</td>\n",
       "      <td>19.0</td>\n",
       "      <td>36.0</td>\n",
       "      <td>NaN</td>\n",
       "      <td>None</td>\n",
       "      <td>28.0</td>\n",
       "      <td>7.8</td>\n",
       "      <td>None</td>\n",
       "      <td>NaN</td>\n",
       "      <td>None</td>\n",
       "    </tr>\n",
       "  </tbody>\n",
       "</table>\n",
       "<p>3289 rows × 11 columns</p>\n",
       "</div>"
      ],
      "text/plain": [
       "            date  tavg  tmin  tmax   prcp  snow   wdir  wspd  wpgt    pres  \\\n",
       "0     2012-01-01  36.7  30.9  45.0    NaN  None  268.0  17.2  None     NaN   \n",
       "1     2012-01-02  23.2  18.0  30.0    NaN  None  315.0  17.2  None     NaN   \n",
       "2     2012-01-03  21.2  12.9  28.0  0.000  None    NaN   9.3  None  1027.0   \n",
       "3     2012-01-04  33.3  26.1  41.0  0.000  None    NaN   7.9  None  1016.3   \n",
       "4     2012-01-05  38.5  25.0  50.0  0.000  None    NaN   6.7  None  1012.5   \n",
       "...          ...   ...   ...   ...    ...   ...    ...   ...   ...     ...   \n",
       "3284  2020-12-28  30.0  21.9  35.1  0.000  None  296.0  10.4  None  1024.9   \n",
       "3285  2020-12-29  25.7  18.0  32.0    NaN  None  145.0   6.3  None     NaN   \n",
       "3286  2020-12-30  32.0  27.0  36.0  0.291  None  246.0  13.3  None  1014.2   \n",
       "3287  2020-12-31  24.8  19.0  28.0    NaN  None  288.0   4.0  None     NaN   \n",
       "3288  2021-01-01  30.0  19.0  36.0    NaN  None   28.0   7.8  None     NaN   \n",
       "\n",
       "      tsun  \n",
       "0     None  \n",
       "1     None  \n",
       "2     None  \n",
       "3     None  \n",
       "4     None  \n",
       "...    ...  \n",
       "3284  None  \n",
       "3285  None  \n",
       "3286  None  \n",
       "3287  None  \n",
       "3288  None  \n",
       "\n",
       "[3289 rows x 11 columns]"
      ]
     },
     "execution_count": 19,
     "metadata": {},
     "output_type": "execute_result"
    }
   ],
   "source": [
    "import pandas as pd\n",
    "import requests\n",
    "\n",
    "url = \"https://meteostat.p.rapidapi.com/stations/daily\"\n",
    "querystring = {\"station\":\"KPWK0\",\"start\":\"2012-01-01\",\"end\":\"2021-01-01\",\"model\":\"true\",\"units\":\"imperial\"}\n",
    "headers = {\n",
    "\t\"X-RapidAPI-Key\": \"6fec950325msha54f5bc890b65e0p1fd8d0jsnc882976e1304\",\n",
    "\t\"X-RapidAPI-Host\": \"meteostat.p.rapidapi.com\"\n",
    "}\n",
    "response = requests.request(\"GET\", url, headers=headers, params=querystring)\n",
    "json = response.json()\n",
    "type(json['data'])\n",
    "type(json['data'][0])\n",
    "df = pd.DataFrame(json['data'])\n",
    "df"
   ]
  },
  {
   "cell_type": "markdown",
   "id": "5e682978",
   "metadata": {},
   "source": [
    "The columns from the dataframe that were dropped and were not kept were snow, wdir, wspd, tsun and wpgt. \n",
    "Snow is an integer value column that records the maximum snow depth in mm. Wdir is a column that tracks the average wind direction in degrees as an integer value. Wspd and Wpgt are columns that track the average wind speed in km/h, and the peak wind gust in km/h as float values. Tsun tracks the daily sunshine total in minutes as an integer type.\n",
    "\n",
    "Since we were not concerned with information focused on wind and daily sunshine in this project, these rows were chosen to be dropped. As our primary focus was on air pressure and temperature in this project, these dropped columns were not as important as the other columns and by dropping them, we were able to create a smaller and more focused dataframe. Furthermore, any rows with NaN values were dropped because as in the case of prcp, 1435 rows were shown to not have a value in that specific square and in many of these cases, several rows also had a NaN value in both prcp and pres. \n",
    "\n",
    "By removing these rows, we were able to have a much cleaner dataset where we could consistently use more of the data. As a result of all these removed rows and columns, the size of the original dataframe decreased from 3289 rows × 11 columns to a dataframe with 1583 rows × 6 columns."
   ]
  },
  {
   "cell_type": "code",
   "execution_count": 20,
   "id": "259a8e12",
   "metadata": {},
   "outputs": [
    {
     "data": {
      "text/html": [
       "<div>\n",
       "<style scoped>\n",
       "    .dataframe tbody tr th:only-of-type {\n",
       "        vertical-align: middle;\n",
       "    }\n",
       "\n",
       "    .dataframe tbody tr th {\n",
       "        vertical-align: top;\n",
       "    }\n",
       "\n",
       "    .dataframe thead th {\n",
       "        text-align: right;\n",
       "    }\n",
       "</style>\n",
       "<table border=\"1\" class=\"dataframe\">\n",
       "  <thead>\n",
       "    <tr style=\"text-align: right;\">\n",
       "      <th></th>\n",
       "      <th>date</th>\n",
       "      <th>tavg</th>\n",
       "      <th>tmin</th>\n",
       "      <th>tmax</th>\n",
       "      <th>prcp</th>\n",
       "      <th>pres</th>\n",
       "    </tr>\n",
       "  </thead>\n",
       "  <tbody>\n",
       "    <tr>\n",
       "      <th>2</th>\n",
       "      <td>2012-01-03</td>\n",
       "      <td>21.2</td>\n",
       "      <td>12.9</td>\n",
       "      <td>28.0</td>\n",
       "      <td>0.000</td>\n",
       "      <td>1027.0</td>\n",
       "    </tr>\n",
       "    <tr>\n",
       "      <th>3</th>\n",
       "      <td>2012-01-04</td>\n",
       "      <td>33.3</td>\n",
       "      <td>26.1</td>\n",
       "      <td>41.0</td>\n",
       "      <td>0.000</td>\n",
       "      <td>1016.3</td>\n",
       "    </tr>\n",
       "    <tr>\n",
       "      <th>4</th>\n",
       "      <td>2012-01-05</td>\n",
       "      <td>38.5</td>\n",
       "      <td>25.0</td>\n",
       "      <td>50.0</td>\n",
       "      <td>0.000</td>\n",
       "      <td>1012.5</td>\n",
       "    </tr>\n",
       "    <tr>\n",
       "      <th>5</th>\n",
       "      <td>2012-01-06</td>\n",
       "      <td>47.5</td>\n",
       "      <td>42.1</td>\n",
       "      <td>55.9</td>\n",
       "      <td>0.000</td>\n",
       "      <td>1006.5</td>\n",
       "    </tr>\n",
       "    <tr>\n",
       "      <th>6</th>\n",
       "      <td>2012-01-07</td>\n",
       "      <td>37.8</td>\n",
       "      <td>27.0</td>\n",
       "      <td>45.0</td>\n",
       "      <td>0.000</td>\n",
       "      <td>1017.3</td>\n",
       "    </tr>\n",
       "    <tr>\n",
       "      <th>...</th>\n",
       "      <td>...</td>\n",
       "      <td>...</td>\n",
       "      <td>...</td>\n",
       "      <td>...</td>\n",
       "      <td>...</td>\n",
       "      <td>...</td>\n",
       "    </tr>\n",
       "    <tr>\n",
       "      <th>3276</th>\n",
       "      <td>2020-12-20</td>\n",
       "      <td>36.7</td>\n",
       "      <td>32.0</td>\n",
       "      <td>42.1</td>\n",
       "      <td>0.000</td>\n",
       "      <td>1011.9</td>\n",
       "    </tr>\n",
       "    <tr>\n",
       "      <th>3278</th>\n",
       "      <td>2020-12-22</td>\n",
       "      <td>38.1</td>\n",
       "      <td>33.1</td>\n",
       "      <td>41.0</td>\n",
       "      <td>0.000</td>\n",
       "      <td>1019.2</td>\n",
       "    </tr>\n",
       "    <tr>\n",
       "      <th>3281</th>\n",
       "      <td>2020-12-25</td>\n",
       "      <td>16.2</td>\n",
       "      <td>9.0</td>\n",
       "      <td>21.9</td>\n",
       "      <td>0.000</td>\n",
       "      <td>1014.5</td>\n",
       "    </tr>\n",
       "    <tr>\n",
       "      <th>3284</th>\n",
       "      <td>2020-12-28</td>\n",
       "      <td>30.0</td>\n",
       "      <td>21.9</td>\n",
       "      <td>35.1</td>\n",
       "      <td>0.000</td>\n",
       "      <td>1024.9</td>\n",
       "    </tr>\n",
       "    <tr>\n",
       "      <th>3286</th>\n",
       "      <td>2020-12-30</td>\n",
       "      <td>32.0</td>\n",
       "      <td>27.0</td>\n",
       "      <td>36.0</td>\n",
       "      <td>0.291</td>\n",
       "      <td>1014.2</td>\n",
       "    </tr>\n",
       "  </tbody>\n",
       "</table>\n",
       "<p>1583 rows × 6 columns</p>\n",
       "</div>"
      ],
      "text/plain": [
       "            date  tavg  tmin  tmax   prcp    pres\n",
       "2     2012-01-03  21.2  12.9  28.0  0.000  1027.0\n",
       "3     2012-01-04  33.3  26.1  41.0  0.000  1016.3\n",
       "4     2012-01-05  38.5  25.0  50.0  0.000  1012.5\n",
       "5     2012-01-06  47.5  42.1  55.9  0.000  1006.5\n",
       "6     2012-01-07  37.8  27.0  45.0  0.000  1017.3\n",
       "...          ...   ...   ...   ...    ...     ...\n",
       "3276  2020-12-20  36.7  32.0  42.1  0.000  1011.9\n",
       "3278  2020-12-22  38.1  33.1  41.0  0.000  1019.2\n",
       "3281  2020-12-25  16.2   9.0  21.9  0.000  1014.5\n",
       "3284  2020-12-28  30.0  21.9  35.1  0.000  1024.9\n",
       "3286  2020-12-30  32.0  27.0  36.0  0.291  1014.2\n",
       "\n",
       "[1583 rows x 6 columns]"
      ]
     },
     "execution_count": 20,
     "metadata": {},
     "output_type": "execute_result"
    }
   ],
   "source": [
    "# we will be keeping date, tavg, tmin, tmax, prcp, and pres columns, here we drop the columns discussed in the markdown above:\n",
    "df = df.drop(\"snow\", axis='columns')\n",
    "df = df.drop(\"wdir\", axis='columns')\n",
    "df = df.drop(\"wspd\", axis='columns')\n",
    "df = df.drop(\"wpgt\", axis='columns')\n",
    "df = df.drop(\"tsun\", axis='columns')\n",
    "\n",
    "# shows the rows with NaN in rows:\n",
    "df[df['prcp'].isna()]\n",
    "df[df['pres'].isna()]\n",
    "\n",
    "# drop rows with NaN in rows:\n",
    "df = df.dropna(subset=['prcp','pres'])\n",
    "\n",
    "#print post dropped rows, after cleaning data\n",
    "df"
   ]
  },
  {
   "cell_type": "markdown",
   "id": "36871cd0",
   "metadata": {},
   "source": [
    "## Section 4: Exploratory Data Analysis <br>"
   ]
  },
  {
   "cell_type": "markdown",
   "id": "57afd075",
   "metadata": {},
   "source": [
    "All of our variables are numerical and continous except for the date which is a date object."
   ]
  },
  {
   "cell_type": "code",
   "execution_count": 5,
   "id": "d3a317c4",
   "metadata": {},
   "outputs": [
    {
     "data": {
      "text/html": [
       "<div>\n",
       "<style scoped>\n",
       "    .dataframe tbody tr th:only-of-type {\n",
       "        vertical-align: middle;\n",
       "    }\n",
       "\n",
       "    .dataframe tbody tr th {\n",
       "        vertical-align: top;\n",
       "    }\n",
       "\n",
       "    .dataframe thead th {\n",
       "        text-align: right;\n",
       "    }\n",
       "</style>\n",
       "<table border=\"1\" class=\"dataframe\">\n",
       "  <thead>\n",
       "    <tr style=\"text-align: right;\">\n",
       "      <th></th>\n",
       "      <th>tavg</th>\n",
       "      <th>tmin</th>\n",
       "      <th>tmax</th>\n",
       "      <th>prcp</th>\n",
       "      <th>pres</th>\n",
       "    </tr>\n",
       "  </thead>\n",
       "  <tbody>\n",
       "    <tr>\n",
       "      <th>count</th>\n",
       "      <td>1582.000000</td>\n",
       "      <td>1582.000000</td>\n",
       "      <td>1582.000000</td>\n",
       "      <td>1583.000000</td>\n",
       "      <td>1583.000000</td>\n",
       "    </tr>\n",
       "    <tr>\n",
       "      <th>mean</th>\n",
       "      <td>52.647851</td>\n",
       "      <td>43.268774</td>\n",
       "      <td>61.639570</td>\n",
       "      <td>0.012623</td>\n",
       "      <td>1019.025963</td>\n",
       "    </tr>\n",
       "    <tr>\n",
       "      <th>std</th>\n",
       "      <td>19.821738</td>\n",
       "      <td>19.015317</td>\n",
       "      <td>21.008678</td>\n",
       "      <td>0.084280</td>\n",
       "      <td>6.591840</td>\n",
       "    </tr>\n",
       "    <tr>\n",
       "      <th>min</th>\n",
       "      <td>-15.500000</td>\n",
       "      <td>-20.900000</td>\n",
       "      <td>-9.000000</td>\n",
       "      <td>0.000000</td>\n",
       "      <td>999.900000</td>\n",
       "    </tr>\n",
       "    <tr>\n",
       "      <th>25%</th>\n",
       "      <td>37.200000</td>\n",
       "      <td>28.900000</td>\n",
       "      <td>44.100000</td>\n",
       "      <td>0.000000</td>\n",
       "      <td>1014.800000</td>\n",
       "    </tr>\n",
       "    <tr>\n",
       "      <th>50%</th>\n",
       "      <td>54.700000</td>\n",
       "      <td>44.100000</td>\n",
       "      <td>64.900000</td>\n",
       "      <td>0.000000</td>\n",
       "      <td>1018.600000</td>\n",
       "    </tr>\n",
       "    <tr>\n",
       "      <th>75%</th>\n",
       "      <td>70.000000</td>\n",
       "      <td>60.100000</td>\n",
       "      <td>80.100000</td>\n",
       "      <td>0.000000</td>\n",
       "      <td>1022.900000</td>\n",
       "    </tr>\n",
       "    <tr>\n",
       "      <th>max</th>\n",
       "      <td>91.800000</td>\n",
       "      <td>82.900000</td>\n",
       "      <td>102.000000</td>\n",
       "      <td>1.650000</td>\n",
       "      <td>1044.400000</td>\n",
       "    </tr>\n",
       "  </tbody>\n",
       "</table>\n",
       "</div>"
      ],
      "text/plain": [
       "              tavg         tmin         tmax         prcp         pres\n",
       "count  1582.000000  1582.000000  1582.000000  1583.000000  1583.000000\n",
       "mean     52.647851    43.268774    61.639570     0.012623  1019.025963\n",
       "std      19.821738    19.015317    21.008678     0.084280     6.591840\n",
       "min     -15.500000   -20.900000    -9.000000     0.000000   999.900000\n",
       "25%      37.200000    28.900000    44.100000     0.000000  1014.800000\n",
       "50%      54.700000    44.100000    64.900000     0.000000  1018.600000\n",
       "75%      70.000000    60.100000    80.100000     0.000000  1022.900000\n",
       "max      91.800000    82.900000   102.000000     1.650000  1044.400000"
      ]
     },
     "execution_count": 5,
     "metadata": {},
     "output_type": "execute_result"
    }
   ],
   "source": [
    "df.describe()"
   ]
  },
  {
   "cell_type": "code",
   "execution_count": 6,
   "id": "3b4b7977",
   "metadata": {},
   "outputs": [
    {
     "name": "stdout",
     "output_type": "stream",
     "text": [
      "<class 'pandas.core.frame.DataFrame'>\n",
      "Int64Index: 1583 entries, 2 to 3286\n",
      "Data columns (total 6 columns):\n",
      " #   Column  Non-Null Count  Dtype  \n",
      "---  ------  --------------  -----  \n",
      " 0   date    1583 non-null   object \n",
      " 1   tavg    1582 non-null   float64\n",
      " 2   tmin    1582 non-null   float64\n",
      " 3   tmax    1582 non-null   float64\n",
      " 4   prcp    1583 non-null   float64\n",
      " 5   pres    1583 non-null   float64\n",
      "dtypes: float64(5), object(1)\n",
      "memory usage: 86.6+ KB\n"
     ]
    }
   ],
   "source": [
    "df.info()"
   ]
  },
  {
   "cell_type": "code",
   "execution_count": 7,
   "id": "f685a67e",
   "metadata": {},
   "outputs": [
    {
     "data": {
      "image/png": "[encoded data removed]",
      "text/plain": [
       "<Figure size 432x288 with 5 Axes>"
      ]
     },
     "metadata": {
      "needs_background": "light"
     },
     "output_type": "display_data"
    }
   ],
   "source": [
    "import numpy as np\n",
    "import matplotlib.pyplot as plt\n",
    "\n",
    "columns = np.array(df.columns)\n",
    "for count, column in enumerate(columns[1:]):\n",
    "    plt.subplot(2, 3, count+1)\n",
    "    plt.plot(df[column])\n",
    "    plt.title(column)\n",
    "plt.show()"
   ]
  },
  {
   "cell_type": "markdown",
   "id": "411ce30b",
   "metadata": {},
   "source": [
    "Variables tavg, tmin, tmax, and pres are time series models. Potential ML models to be applied can be logistic regresion, ARIMA, or classification (would need to restructure the data).\n",
    "\n",
    "Although the variable prcp is technically a timeseries, it resembles a bar graph."
   ]
  },
  {
   "cell_type": "code",
   "execution_count": 8,
   "id": "0cc9189b",
   "metadata": {},
   "outputs": [
    {
     "data": {
      "text/plain": [
       "<AxesSubplot:>"
      ]
     },
     "execution_count": 8,
     "metadata": {},
     "output_type": "execute_result"
    },
    {
     "data": {
      "image/png": "[encoded data removed]",
      "text/plain": [
       "<Figure size 432x288 with 1 Axes>"
      ]
     },
     "metadata": {
      "needs_background": "light"
     },
     "output_type": "display_data"
    }
   ],
   "source": [
    "df.boxplot(column=['tavg', 'tmin', 'tmax'])  "
   ]
  },
  {
   "cell_type": "code",
   "execution_count": 9,
   "id": "db2bc48a",
   "metadata": {},
   "outputs": [
    {
     "data": {
      "text/plain": [
       "<AxesSubplot:>"
      ]
     },
     "execution_count": 9,
     "metadata": {},
     "output_type": "execute_result"
    },
    {
     "data": {
      "image/png": "[encoded data removed]",
      "text/plain": [
       "<Figure size 432x288 with 1 Axes>"
      ]
     },
     "metadata": {
      "needs_background": "light"
     },
     "output_type": "display_data"
    }
   ],
   "source": [
    "df.boxplot(column=['prcp'])"
   ]
  },
  {
   "cell_type": "code",
   "execution_count": 10,
   "id": "1fa23ffd",
   "metadata": {},
   "outputs": [
    {
     "data": {
      "text/plain": [
       "<AxesSubplot:>"
      ]
     },
     "execution_count": 10,
     "metadata": {},
     "output_type": "execute_result"
    },
    {
     "data": {
      "image/png": "[encoded data removed]",
      "text/plain": [
       "<Figure size 432x288 with 1 Axes>"
      ]
     },
     "metadata": {
      "needs_background": "light"
     },
     "output_type": "display_data"
    }
   ],
   "source": [
    "df.boxplot(column=['pres'])"
   ]
  },
  {
   "cell_type": "markdown",
   "id": "efb54c1f",
   "metadata": {},
   "source": [
    "According to our boxplot, the variables 'tavg', 'tmin', 'tmax' are very similar. This may suggest multicollinearity, which we will run a test for.\n",
    "\n",
    "prcp has a large number of outliers. However, as we are are attempting to predict extreme weather conditions, these outliers may not be of much concern. We may need to scale or rebase this variable if needed.\n",
    "\n",
    "pres has some outliers, but this may due to the number of points centered around the mean. These outliers can be removed by scaling using the quantile range."
   ]
  },
  {
   "cell_type": "code",
   "execution_count": 11,
   "id": "425eef8d",
   "metadata": {},
   "outputs": [
    {
     "data": {
      "text/html": [
       "<div>\n",
       "<style scoped>\n",
       "    .dataframe tbody tr th:only-of-type {\n",
       "        vertical-align: middle;\n",
       "    }\n",
       "\n",
       "    .dataframe tbody tr th {\n",
       "        vertical-align: top;\n",
       "    }\n",
       "\n",
       "    .dataframe thead th {\n",
       "        text-align: right;\n",
       "    }\n",
       "</style>\n",
       "<table border=\"1\" class=\"dataframe\">\n",
       "  <thead>\n",
       "    <tr style=\"text-align: right;\">\n",
       "      <th></th>\n",
       "      <th>VIF</th>\n",
       "    </tr>\n",
       "  </thead>\n",
       "  <tbody>\n",
       "    <tr>\n",
       "      <th>0</th>\n",
       "      <td>2615.683425</td>\n",
       "    </tr>\n",
       "    <tr>\n",
       "      <th>1</th>\n",
       "      <td>456.334432</td>\n",
       "    </tr>\n",
       "    <tr>\n",
       "      <th>2</th>\n",
       "      <td>1014.430743</td>\n",
       "    </tr>\n",
       "  </tbody>\n",
       "</table>\n",
       "</div>"
      ],
      "text/plain": [
       "           VIF\n",
       "0  2615.683425\n",
       "1   456.334432\n",
       "2  1014.430743"
      ]
     },
     "execution_count": 11,
     "metadata": {},
     "output_type": "execute_result"
    }
   ],
   "source": [
    "# !pip install statsmodels\n",
    "from statsmodels.stats.outliers_influence import variance_inflation_factor\n",
    "\n",
    "vif_check_values = df[['tavg', 'tmin', 'tmax']].dropna()\n",
    "\n",
    "vif_df = pd.DataFrame()\n",
    "vif_df[\"VIF\"] = [variance_inflation_factor(vif_check_values.values, i) for i in range(len(vif_check_values.columns))]\n",
    "vif_df"
   ]
  },
  {
   "cell_type": "code",
   "execution_count": 12,
   "id": "7c46f3d1",
   "metadata": {},
   "outputs": [
    {
     "data": {
      "text/plain": [
       "<AxesSubplot:>"
      ]
     },
     "execution_count": 12,
     "metadata": {},
     "output_type": "execute_result"
    },
    {
     "data": {
      "image/png": "[encoded data removed]",
      "text/plain": [
       "<Figure size 432x288 with 1 Axes>"
      ]
     },
     "metadata": {
      "needs_background": "light"
     },
     "output_type": "display_data"
    }
   ],
   "source": [
    "df[['tavg', 'tmin', 'tmax']].plot()"
   ]
  },
  {
   "cell_type": "markdown",
   "id": "56530c33",
   "metadata": {},
   "source": [
    "As we can see the three variables (tavg, tmin, tmax) all have extremely high variance inflation factors which suggests that there are high intercorrelations among the three independent variables. If using a mult-linear regression model, it would only be neccessary to use one of these variables, not all three. \n",
    "\n",
    "Additionally, tavg, tmin, and tmax contain NaN values."
   ]
  },
  {
   "cell_type": "code",
   "execution_count": 13,
   "id": "a9cefd1c",
   "metadata": {},
   "outputs": [
    {
     "data": {
      "text/plain": [
       "<mpl_toolkits.mplot3d.art3d.Path3DCollection at 0x1cb3fa0c670>"
      ]
     },
     "execution_count": 13,
     "metadata": {},
     "output_type": "execute_result"
    },
    {
     "data": {
      "image/png": "[encoded data removed]",
      "text/plain": [
       "<Figure size 432x288 with 1 Axes>"
      ]
     },
     "metadata": {
      "needs_background": "light"
     },
     "output_type": "display_data"
    }
   ],
   "source": [
    "# fig = plt.figure()\n",
    "askPlot = plt.axes(projection='3d')\n",
    "x = df[\"pres\"]\n",
    "z = df[\"tmin\"]\n",
    "y = df[\"tmax\"]\n",
    "askPlot.scatter(x, y, z, c=z, cmap='viridis')"
   ]
  },
  {
   "cell_type": "code",
   "execution_count": 14,
   "id": "3775e35f",
   "metadata": {},
   "outputs": [
    {
     "data": {
      "text/html": [
       "<div>\n",
       "<style scoped>\n",
       "    .dataframe tbody tr th:only-of-type {\n",
       "        vertical-align: middle;\n",
       "    }\n",
       "\n",
       "    .dataframe tbody tr th {\n",
       "        vertical-align: top;\n",
       "    }\n",
       "\n",
       "    .dataframe thead th {\n",
       "        text-align: right;\n",
       "    }\n",
       "</style>\n",
       "<table border=\"1\" class=\"dataframe\">\n",
       "  <thead>\n",
       "    <tr style=\"text-align: right;\">\n",
       "      <th></th>\n",
       "      <th>pres</th>\n",
       "      <th>tmax</th>\n",
       "    </tr>\n",
       "  </thead>\n",
       "  <tbody>\n",
       "    <tr>\n",
       "      <th>pres</th>\n",
       "      <td>1.000000</td>\n",
       "      <td>-0.491039</td>\n",
       "    </tr>\n",
       "    <tr>\n",
       "      <th>tmax</th>\n",
       "      <td>-0.491039</td>\n",
       "      <td>1.000000</td>\n",
       "    </tr>\n",
       "  </tbody>\n",
       "</table>\n",
       "</div>"
      ],
      "text/plain": [
       "          pres      tmax\n",
       "pres  1.000000 -0.491039\n",
       "tmax -0.491039  1.000000"
      ]
     },
     "execution_count": 14,
     "metadata": {},
     "output_type": "execute_result"
    }
   ],
   "source": [
    "df[[\"pres\", \"tmax\"]].corr()"
   ]
  },
  {
   "cell_type": "markdown",
   "id": "a613032c",
   "metadata": {},
   "source": [
    "Lastly we find there there is a slight negative correlation between pres and tmax. This can be seen in the corr table and the 3-dimensional graph."
   ]
  },
  {
   "cell_type": "markdown",
   "id": "d371db00",
   "metadata": {},
   "source": [
    "## Section 5: Visualization <br>"
   ]
  },
  {
   "cell_type": "markdown",
   "id": "8505f30b",
   "metadata": {},
   "source": [
    "As the goal above suggests we will be taking a look at the different temperatures throughout the year here in Chicago, Illinois. "
   ]
  },
  {
   "cell_type": "code",
   "execution_count": 15,
   "id": "e3b4ad1f",
   "metadata": {},
   "outputs": [
    {
     "ename": "ModuleNotFoundError",
     "evalue": "No module named 'meteostat'",
     "output_type": "error",
     "traceback": [
      "\u001b[1;31m---------------------------------------------------------------------------\u001b[0m",
      "\u001b[1;31mModuleNotFoundError\u001b[0m                       Traceback (most recent call last)",
      "\u001b[1;32m~\\AppData\\Local\\Temp/ipykernel_27092/3225184566.py\u001b[0m in \u001b[0;36m<module>\u001b[1;34m\u001b[0m\n\u001b[0;32m      1\u001b[0m \u001b[1;32mfrom\u001b[0m \u001b[0mdatetime\u001b[0m \u001b[1;32mimport\u001b[0m \u001b[0mdatetime\u001b[0m\u001b[1;33m\u001b[0m\u001b[1;33m\u001b[0m\u001b[0m\n\u001b[1;32m----> 2\u001b[1;33m \u001b[1;32mfrom\u001b[0m \u001b[0mmeteostat\u001b[0m \u001b[1;32mimport\u001b[0m \u001b[0mPoint\u001b[0m\u001b[1;33m,\u001b[0m \u001b[0mDaily\u001b[0m\u001b[1;33m\u001b[0m\u001b[1;33m\u001b[0m\u001b[0m\n\u001b[0m\u001b[0;32m      3\u001b[0m \u001b[1;33m\u001b[0m\u001b[0m\n\u001b[0;32m      4\u001b[0m \u001b[1;31m# Set time period\u001b[0m\u001b[1;33m\u001b[0m\u001b[1;33m\u001b[0m\u001b[0m\n\u001b[0;32m      5\u001b[0m \u001b[0mstart\u001b[0m \u001b[1;33m=\u001b[0m \u001b[0mdatetime\u001b[0m\u001b[1;33m(\u001b[0m\u001b[1;36m2021\u001b[0m\u001b[1;33m,\u001b[0m \u001b[1;36m1\u001b[0m\u001b[1;33m,\u001b[0m \u001b[1;36m1\u001b[0m\u001b[1;33m)\u001b[0m\u001b[1;33m\u001b[0m\u001b[1;33m\u001b[0m\u001b[0m\n",
      "\u001b[1;31mModuleNotFoundError\u001b[0m: No module named 'meteostat'"
     ]
    }
   ],
   "source": [
    "from datetime import datetime\n",
    "from meteostat import Point, Daily\n",
    "\n",
    "# Set time period\n",
    "start = datetime(2021, 1, 1)\n",
    "end = datetime(2021, 12, 31)\n",
    "\n",
    "# Create Point for Chicago\n",
    "chicago = Point(41.868755, -87.646090, 70)\n",
    "\n",
    "# Get daily data for 2018\n",
    "data = Daily(chicago, start, end)\n",
    "data = data.fetch()\n",
    "\n",
    "# Plot line chart including average, minimum and maximum temperature\n",
    "data.plot(y=['tavg', 'tmin', 'tmax'])\n",
    "df.hist()\n",
    "plt.title(\"Temperature Over 2021\")\n",
    "plt.show()"
   ]
  },
  {
   "cell_type": "code",
   "execution_count": 16,
   "id": "782c385d",
   "metadata": {},
   "outputs": [
    {
     "ename": "NameError",
     "evalue": "name 'Point' is not defined",
     "output_type": "error",
     "traceback": [
      "\u001b[1;31m---------------------------------------------------------------------------\u001b[0m",
      "\u001b[1;31mNameError\u001b[0m                                 Traceback (most recent call last)",
      "\u001b[1;32m~\\AppData\\Local\\Temp/ipykernel_27092/4009828174.py\u001b[0m in \u001b[0;36m<module>\u001b[1;34m\u001b[0m\n\u001b[0;32m      4\u001b[0m \u001b[1;33m\u001b[0m\u001b[0m\n\u001b[0;32m      5\u001b[0m \u001b[1;31m# Create Point for Chicago\u001b[0m\u001b[1;33m\u001b[0m\u001b[1;33m\u001b[0m\u001b[0m\n\u001b[1;32m----> 6\u001b[1;33m \u001b[0mchicago\u001b[0m \u001b[1;33m=\u001b[0m \u001b[0mPoint\u001b[0m\u001b[1;33m(\u001b[0m\u001b[1;36m41.868755\u001b[0m\u001b[1;33m,\u001b[0m \u001b[1;33m-\u001b[0m\u001b[1;36m87.646090\u001b[0m\u001b[1;33m,\u001b[0m \u001b[1;36m70\u001b[0m\u001b[1;33m)\u001b[0m\u001b[1;33m\u001b[0m\u001b[1;33m\u001b[0m\u001b[0m\n\u001b[0m\u001b[0;32m      7\u001b[0m \u001b[1;33m\u001b[0m\u001b[0m\n\u001b[0;32m      8\u001b[0m \u001b[1;31m# Get daily data for 2018\u001b[0m\u001b[1;33m\u001b[0m\u001b[1;33m\u001b[0m\u001b[0m\n",
      "\u001b[1;31mNameError\u001b[0m: name 'Point' is not defined"
     ]
    }
   ],
   "source": [
    "# Set time period\n",
    "start = datetime(1995, 1, 1)\n",
    "end = datetime(1995, 12, 31)\n",
    "\n",
    "# Create Point for Chicago\n",
    "chicago = Point(41.868755, -87.646090, 70)\n",
    "\n",
    "# Get daily data for 2018\n",
    "data = Daily(chicago, start, end)\n",
    "data = data.fetch()\n",
    "\n",
    "# Plot line chart including average, minimum and maximum temperature\n",
    "data.plot(y=['tavg', 'tmin', 'tmax'])\n",
    "data.hist()\n",
    "plt.title(\"Temperature Over 1995\")\n",
    "plt.show()"
   ]
  },
  {
   "cell_type": "markdown",
   "id": "df0db1df",
   "metadata": {},
   "source": [
    "Here we have data being collected from an x,y coordinate plane (I used google maps to pinpoint the coordinates of UIC and used that point to represent Chicago). In addition, I also made sure to add a bit more data than just the average temp, but I also factored in the lower range and the higher range for that particular date. I've also included a histogram of the respective columns to get an idea of where the temperatures are headed."
   ]
  },
  {
   "cell_type": "markdown",
   "id": "f80ba56d",
   "metadata": {},
   "source": [
    "## Section 6: Machine Learning Analysis <br>"
   ]
  },
  {
   "cell_type": "markdown",
   "id": "906d5c57",
   "metadata": {},
   "source": [
    "### Decision Tree and Random Forest Regressors"
   ]
  },
  {
   "cell_type": "code",
   "execution_count": null,
   "id": "9e84419d",
   "metadata": {},
   "outputs": [],
   "source": [
    "from sklearn.model_selection import train_test_split\n",
    "from sklearn.tree import DecisionTreeRegressor\n",
    "from sklearn.ensemble import RandomForestRegressor\n",
    "from sklearn.metrics import mean_squared_error\n",
    "from sklearn.metrics import mean_absolute_error\n",
    "import math\n",
    "import matplotlib.pyplot as plt\n",
    "\n",
    "# remove dashes from date column and convert the column type to an int\n",
    "df['date'] = df['date'].replace('-', '', regex=True).astype(int)\n",
    "\n",
    "# drop rows with NaN in rows:\n",
    "df = df.dropna(subset=['tavg','tmin','tmax'])\n",
    "\n",
    "# split the data into two sets\n",
    "X = df.drop([\"prcp\"], axis=1)\n",
    "Y = df[\"prcp\"]\n",
    "\n",
    "# create training and testing data using a 80/20 training/test split\n",
    "X_train, X_test, y_train, y_test = train_test_split(X, Y, test_size=0.2, random_state=42)"
   ]
  },
  {
   "cell_type": "code",
   "execution_count": null,
   "id": "ad6dd417",
   "metadata": {
    "scrolled": true
   },
   "outputs": [
    {
     "name": "stdout",
     "output_type": "stream",
     "text": [
      "DecisionTreeRegressor Metrics:\n",
      "Mean Absolute Error:  0.02949526813880126\n",
      "Mean Squared Error:  0.021640365930599367\n",
      "Root Mean Squared Error:  0.14710664815228225\n"
     ]
    },
    {
     "data": {
      "image/png": "[encoded data removed]",
      "text/plain": [
       "<Figure size 432x288 with 1 Axes>"
      ]
     },
     "metadata": {
      "needs_background": "light"
     },
     "output_type": "display_data"
    }
   ],
   "source": [
    "# create decision tree model and train it\n",
    "tree = DecisionTreeRegressor(random_state=42)\n",
    "tree.fit(X_train, y_train)\n",
    "\n",
    "# make predictions on test set\n",
    "y_pred = tree.predict(X_test)\n",
    "\n",
    "# evaluating decision tree model\n",
    "# Reference: https://stackabuse.com/decision-trees-in-python-with-scikit-learn/\n",
    "mae = mean_absolute_error(y_test, y_pred)\n",
    "mse = mean_squared_error(y_test, y_pred)\n",
    "rmse = math.sqrt(mse)\n",
    "\n",
    "print(\"DecisionTreeRegressor Metrics:\")\n",
    "print(\"Mean Absolute Error: \", mae)\n",
    "print(\"Mean Squared Error: \", mse)\n",
    "print(\"Root Mean Squared Error: \", rmse)\n",
    "\n",
    "# plot the predicted and actual values\n",
    "# Reference: https://www.datatechnotes.com/2020/10/regression-example-with-decisiontreeregressor.html\n",
    "x_ax = range(len(y_test))\n",
    "plt.plot(x_ax, y_test, linewidth=1, label=\"Actual\")\n",
    "plt.plot(x_ax, y_pred, linewidth=1.1, label=\"Predicted\")\n",
    "plt.title(\"Predicting Precipitation Using DecisionTreeRegressor\")\n",
    "plt.ylabel('Precipitation Values in mm')\n",
    "plt.legend(loc='upper right',fancybox=True, shadow=True)\n",
    "plt.grid(True)\n",
    "plt.show()"
   ]
  },
  {
   "cell_type": "markdown",
   "id": "7155ea99",
   "metadata": {},
   "source": [
    "We created this model to serve as our baseline in order to be able to draw comparisons with a more advanced model. Based on the mean absolute error computed, the results for the decision tree model can be interpreted as on average, the model will be off by about 0.029 mm of total precipitation on any given date."
   ]
  },
  {
   "cell_type": "code",
   "execution_count": null,
   "id": "89a171b2",
   "metadata": {
    "scrolled": true
   },
   "outputs": [
    {
     "name": "stdout",
     "output_type": "stream",
     "text": [
      "RandomForestRegressor Metrics:\n",
      "Mean Absolute Error:  0.029660694006309142\n",
      "Mean Squared Error:  0.014815358126182964\n",
      "Root Mean Squared Error:  0.1217183557487652\n"
     ]
    },
    {
     "data": {
      "image/png": "[encoded data removed]",
      "text/plain": [
       "<Figure size 432x288 with 1 Axes>"
      ]
     },
     "metadata": {
      "needs_background": "light"
     },
     "output_type": "display_data"
    }
   ],
   "source": [
    "# create random forest model and train it\n",
    "forest = RandomForestRegressor(random_state=42)\n",
    "forest.fit(X_train, y_train)\n",
    "\n",
    "# make predictions on test set\n",
    "y_pred = forest.predict(X_test)\n",
    "\n",
    "# evaluating random forest model\n",
    "# Reference: https://stackabuse.com/decision-trees-in-python-with-scikit-learn/\n",
    "mae = mean_absolute_error(y_test, y_pred)\n",
    "mse = mean_squared_error(y_test, y_pred)\n",
    "rmse = math.sqrt(mse)\n",
    "\n",
    "print(\"RandomForestRegressor Metrics:\")\n",
    "print(\"Mean Absolute Error: \", mae)\n",
    "print(\"Mean Squared Error: \", mse)\n",
    "print(\"Root Mean Squared Error: \", rmse)\n",
    "\n",
    "# plot the predicted and actual values\n",
    "# Reference: https://www.datatechnotes.com/2020/10/regression-example-with-decisiontreeregressor.html\n",
    "x_ax = range(len(y_test))\n",
    "plt.plot(x_ax, y_test, linewidth=1, label=\"Actual\")\n",
    "plt.plot(x_ax, y_pred, linewidth=1.1, label=\"Predicted\")\n",
    "plt.title(\"Predicting Precipitation Using RandomForestRegressor\")\n",
    "plt.ylabel('Precipitation Values in mm')\n",
    "plt.legend(loc='upper right',fancybox=True, shadow=True)\n",
    "plt.grid(True)\n",
    "plt.show()"
   ]
  },
  {
   "cell_type": "markdown",
   "id": "2255ae57",
   "metadata": {},
   "source": [
    "To provide a comparison against our baseline model, we used a random forest regressor which collects multiple decision trees together. We were hopeful to see it perform better as typically random forest models produce better results with larger datasets when compared to using a single decision tree. Using the same metrics, we found that although the mean absolute error was almost the same, the mean squared error and the root mean squared error were significantly lower when using the random forest regressor. This was important because the closer those values are to 0, the more accurate the model is. Therefore, we chose to use the random forest regression model for a prediction on a randomly selected day below."
   ]
  },
  {
   "cell_type": "code",
   "execution_count": null,
   "id": "c4d415bc",
   "metadata": {
    "scrolled": true
   },
   "outputs": [
    {
     "name": "stdout",
     "output_type": "stream",
     "text": [
      "Predicted precipitation:  0.153\n",
      "Actual precipitation:  0.161\n"
     ]
    },
    {
     "data": {
      "text/plain": [
       "<matplotlib.legend.Legend at 0x7fe5576d6760>"
      ]
     },
     "execution_count": 6,
     "metadata": {},
     "output_type": "execute_result"
    },
    {
     "data": {
      "image/png": "[encoded data removed]",
      "text/plain": [
       "<Figure size 432x288 with 1 Axes>"
      ]
     },
     "metadata": {
      "needs_background": "light"
     },
     "output_type": "display_data"
    }
   ],
   "source": [
    "# example prediction from random day in dataset\n",
    "# Reference: https://www.samloves.coffee/rainML \n",
    "pred_day = X.loc[X['date'] == 20190523]\n",
    "pred_val = round(forest.predict(pred_day)[0], 3)\n",
    "\n",
    "\n",
    "actual_day = df.loc[df['date'] == 20190523]\n",
    "actual_val = round(actual_day.iloc[0][\"prcp\"], 3)\n",
    "\n",
    "print(\"Predicted precipitation: \", pred_val)\n",
    "print(\"Actual precipitation: \", actual_val)\n",
    "\n",
    "# using bar chart to visualize model prediction\n",
    "vals = {\"Values\":[\"Predicted\", \"Actual\"], \"in mm\":[pred_val, actual_val]}\n",
    "bc = pd.DataFrame(data=vals)\n",
    "axes = bc.plot.bar(x=\"Values\", y=\"in mm\", title=\"Comparing Precipitation Results for 05/23/2019\");\n",
    "axes.legend(loc=9)"
   ]
  },
  {
   "cell_type": "markdown",
   "id": "100c0774",
   "metadata": {},
   "source": [
    "Using our chosen model on 05/23/2019 in Chicago, our model predicted that there would be 0.153 mm of precipitation. In reality, there was 0.161 mm. Therefore, while our model was off by 0.008 mm, it was lower than the average error, and it could reasonably be used to predict future precipitation values."
   ]
  },
  {
   "cell_type": "markdown",
   "id": "42331a8a",
   "metadata": {},
   "source": [
    "### Prophet Model <br>"
   ]
  },
  {
   "cell_type": "code",
   "execution_count": null,
   "id": "053a1e82",
   "metadata": {},
   "outputs": [],
   "source": [
    "from datetime import datetime\n",
    "import math\n",
    "from meteostat import Point\n",
    "from meteostat import Daily\n",
    "import pandas as pd\n",
    "\n",
    "from prophet import Prophet\n",
    "import matplotlib.pyplot as plt\n",
    "from sklearn.metrics import mean_squared_error\n",
    "\n",
    "# Set time period\n",
    "startDate = datetime(2021, 1, 1)\n",
    "endDate = datetime(2022, 9, 30)\n",
    "\n",
    "# Create Point for Chicago\n",
    "chicago = Point(41.868755, -87.646090, 70)\n",
    "data = Daily(chicago, startDate, endDate)\n",
    "data = data.fetch()\n",
    "\n",
    "# Setting up training and testing data\n",
    "train = data.loc[:'2022-08-31']\n",
    "test = data.loc['2022-09-01':]\n",
    "\n",
    "train = data[['tavg']]\n",
    "train = train.reset_index()\n",
    "train.columns = ['ds', 'y']\n",
    "\n"
   ]
  },
  {
   "cell_type": "markdown",
   "id": "253c5e7b",
   "metadata": {},
   "source": [
    "For our ML model we used something that was not referenced in class to our knowledge and wanted to properly document our references.\n",
    "Sources used: https://facebook.github.io/prophet/docs/quick_start.html#python-api "
   ]
  },
  {
   "cell_type": "code",
   "execution_count": 2,
   "id": "762fc78e",
   "metadata": {},
   "outputs": [
    {
     "ename": "NameError",
     "evalue": "name 'Prophet' is not defined",
     "output_type": "error",
     "traceback": [
      "\u001b[1;31m---------------------------------------------------------------------------\u001b[0m",
      "\u001b[1;31mNameError\u001b[0m                                 Traceback (most recent call last)",
      "\u001b[1;32m~\\AppData\\Local\\Temp/ipykernel_27092/1244449193.py\u001b[0m in \u001b[0;36m<module>\u001b[1;34m\u001b[0m\n\u001b[0;32m      1\u001b[0m \u001b[1;31m# Establishing our ML model\u001b[0m\u001b[1;33m\u001b[0m\u001b[1;33m\u001b[0m\u001b[0m\n\u001b[1;32m----> 2\u001b[1;33m \u001b[0mmodel\u001b[0m \u001b[1;33m=\u001b[0m \u001b[0mProphet\u001b[0m\u001b[1;33m(\u001b[0m\u001b[1;33m)\u001b[0m\u001b[1;33m\u001b[0m\u001b[1;33m\u001b[0m\u001b[0m\n\u001b[0m\u001b[0;32m      3\u001b[0m \u001b[0mmodel\u001b[0m\u001b[1;33m.\u001b[0m\u001b[0mfit\u001b[0m\u001b[1;33m(\u001b[0m\u001b[0mtrain\u001b[0m\u001b[1;33m)\u001b[0m\u001b[1;33m\u001b[0m\u001b[1;33m\u001b[0m\u001b[0m\n\u001b[0;32m      4\u001b[0m \u001b[0mfuture\u001b[0m \u001b[1;33m=\u001b[0m \u001b[0mpd\u001b[0m\u001b[1;33m.\u001b[0m\u001b[0mDataFrame\u001b[0m\u001b[1;33m(\u001b[0m\u001b[0mtest\u001b[0m\u001b[1;33m.\u001b[0m\u001b[0mindex\u001b[0m\u001b[1;33m.\u001b[0m\u001b[0mvalues\u001b[0m\u001b[1;33m)\u001b[0m\u001b[1;33m\u001b[0m\u001b[1;33m\u001b[0m\u001b[0m\n\u001b[0;32m      5\u001b[0m \u001b[0mfuture\u001b[0m\u001b[1;33m.\u001b[0m\u001b[0mcolumns\u001b[0m \u001b[1;33m=\u001b[0m \u001b[1;33m[\u001b[0m\u001b[1;34m'ds'\u001b[0m\u001b[1;33m]\u001b[0m\u001b[1;33m\u001b[0m\u001b[1;33m\u001b[0m\u001b[0m\n",
      "\u001b[1;31mNameError\u001b[0m: name 'Prophet' is not defined"
     ]
    }
   ],
   "source": [
    "# Establishing our ML model \n",
    "model = Prophet()\n",
    "model.fit(train)\n",
    "future = pd.DataFrame(test.index.values)\n",
    "future.columns = ['ds']\n",
    "forecast = model.predict(future)\n",
    "\n",
    "y_true = test['tavg'].values\n",
    "y_pred = forecast['yhat'].values\n",
    "diff = math.sqrt(mean_squared_error(y_true, y_pred))\n",
    "print('Diff. Betwwen Exp & Actual :', diff)\n",
    "\n",
    "# plot expected vs actual\n",
    "plt.plot(y_true, label='Actual')\n",
    "plt.plot(y_pred, label='Predicted')\n",
    "plt.ylim(ymax=30, ymin=15)\n",
    "plt.legend()\n",
    "plt.show()"
   ]
  },
  {
   "cell_type": "markdown",
   "id": "a8662cb0",
   "metadata": {},
   "source": [
    "As our third machine learning analysis, we were able to take a look at the Prophet model which tends to be used when taking into consideration meterological data. This particular model was able to give us some insight into what the predicted temp was going to be in relation to the actual temp that was recorded in Chicago. This being said we can not make any claims in regards to a global scale or even a domestic scale as we are only taking a peek at data over the course of 2022. Interestingly enough though we can see that the actual temp ended up being quite lower than expected which is something we did not anticipate."
   ]
  },
  {
   "cell_type": "markdown",
   "id": "8ff159dd",
   "metadata": {},
   "source": [
    "### Linear and Multi Linear Regression"
   ]
  },
  {
   "cell_type": "code",
   "execution_count": null,
   "id": "9d19ccf4",
   "metadata": {},
   "outputs": [],
   "source": [
    "from sklearn.linear_model import LinearRegression\n",
    "\n",
    "# Reference: https://stackabuse.com/linear-regression-in-python-with-scikit-learn/\n",
    "# split datasets\n",
    "y = df['tmax'].values.reshape(-1, 1)\n",
    "X = df['pres'].values.reshape(-1, 1)\n",
    "\n",
    "# get training and test sets based on 80/20 split\n",
    "X_train, X_test, y_train, y_test = train_test_split(X, y, test_size = 0.2, random_state = 42)\n",
    "\n",
    "# create linear regression model and train it\n",
    "linear = LinearRegression()\n",
    "linear.fit(X_train, y_train)\n",
    "\n",
    "# make predictions on test set\n",
    "y_pred = linear.predict(X_test)"
   ]
  },
  {
   "cell_type": "code",
   "execution_count": null,
   "id": "7730ee46",
   "metadata": {},
   "outputs": [
    {
     "name": "stdout",
     "output_type": "stream",
     "text": [
      "Linear Regression Metrics:\n",
      "Mean Absolute Error:  15.716619142024689\n",
      "Mean Squared Error:  357.4189839295559\n",
      "Root Mean Squared Error:  18.90552786699054\n"
     ]
    }
   ],
   "source": [
    "# evaluate linear regression model\n",
    "mae = mean_absolute_error(y_test, y_pred)\n",
    "mse = mean_squared_error(y_test, y_pred)\n",
    "rmse = math.sqrt(mse)\n",
    "\n",
    "print(\"Linear Regression Metrics:\")\n",
    "print(\"Mean Absolute Error: \", mae)\n",
    "print(\"Mean Squared Error: \", mse)\n",
    "print(\"Root Mean Squared Error: \", rmse)"
   ]
  },
  {
   "cell_type": "markdown",
   "id": "fa859dc6",
   "metadata": {},
   "source": [
    "To provide a comparison between two models to predict the max temperature, we first used a linear regression model based on a single variable which was air pressure. After making a prediction based off the test set, we saw that on average, the model would be off by around 15.72 degrees. This seems like a pretty significant difference so we decided to try a more complex model with another variable to see if that could produce better results."
   ]
  },
  {
   "cell_type": "code",
   "execution_count": null,
   "id": "4f878b1b",
   "metadata": {},
   "outputs": [],
   "source": [
    "# split datasets\n",
    "y = df['tmax']\n",
    "X = df[['pres', 'prcp']]\n",
    "\n",
    "# get training and test sets based on 80/20 split\n",
    "X_train, X_test, y_train, y_test = train_test_split(X, y, test_size = 0.2, random_state = 42)\n",
    "\n",
    "# create multilinear regression model and train it\n",
    "multilinear = LinearRegression()\n",
    "multilinear.fit(X_train, y_train)\n",
    "\n",
    "# displaying how each feature affects the max temperature\n",
    "feature_names = X.columns\n",
    "model_coeffs = multilinear.coef_\n",
    "coeffs_df = pd.DataFrame(data = model_coeffs, index = feature_names, columns = ['Coefficient value'])"
   ]
  },
  {
   "cell_type": "code",
   "execution_count": null,
   "id": "493c8477",
   "metadata": {},
   "outputs": [
    {
     "name": "stdout",
     "output_type": "stream",
     "text": [
      "      Coefficient value\n",
      "pres          -1.626151\n",
      "prcp          -7.683767\n",
      "Linear Regression Metrics:\n",
      "Mean Absolute Error:  15.729756476445505\n",
      "Mean Squared Error:  359.30541072561203\n",
      "Root Mean Squared Error:  18.95535308891955\n"
     ]
    }
   ],
   "source": [
    "# make predictions on test set\n",
    "y_pred = multilinear.predict(X_test)\n",
    "\n",
    "# evaluate linear regression model\n",
    "mae2 = mean_absolute_error(y_test, y_pred)\n",
    "mse2 = mean_squared_error(y_test, y_pred)\n",
    "rmse2 = math.sqrt(mse2)\n",
    "\n",
    "print(coeffs_df)\n",
    "print(\"Linear Regression Metrics:\")\n",
    "print(\"Mean Absolute Error: \", mae2)\n",
    "print(\"Mean Squared Error: \", mse2)\n",
    "print(\"Root Mean Squared Error: \", rmse2)"
   ]
  },
  {
   "cell_type": "markdown",
   "id": "8247cb11",
   "metadata": {},
   "source": [
    "We chose to compare the linear regression model against a multi linear regression model that took both the air pressure and precipitation variables into account to predict the max temperature. According to the coefficient values produced, when the air pressure increases by one unit, the air temperature decreases by 1.63 degrees. A more significant difference occurs when precipitation increases by one unit as the air temperature decreases by 7.68 degrees. Therefore, the amount of precipitation has much more of an influence on the max air temperature. In addition to this, the metrics computed for this model show a lower accuracy compared to when only the precipitation variable was included in the model. This means that there could be other variables such as snow and wind that could be more impactful on the air temperature compared to the air pressure."
   ]
  },
  {
   "cell_type": "code",
   "execution_count": null,
   "id": "da0d60e7",
   "metadata": {
    "scrolled": true
   },
   "outputs": [
    {
     "data": {
      "image/png": "[encoded data removed]",
      "text/plain": [
       "<Figure size 432x288 with 1 Axes>"
      ]
     },
     "metadata": {
      "needs_background": "light"
     },
     "output_type": "display_data"
    }
   ],
   "source": [
    "# metrics plotted for each model to visually show similarities\n",
    "# Reference: https://www.geeksforgeeks.org/create-a-grouped-bar-plot-in-matplotlib/\n",
    "import numpy as np\n",
    "x = np.arange(2)\n",
    "y1 = [15.72, 15.73]\n",
    "y2 = [357.42, 359.31]\n",
    "y3 = [18.91, 18.96]\n",
    "\n",
    "plt.bar(x-0.2, y1, 0.2, color='red')\n",
    "plt.bar(x, y2, 0.2, color='green')\n",
    "plt.bar(x+0.2, y3, 0.2, color='blue')\n",
    "plt.xticks(x, ['Linear', 'Multi Linear'])\n",
    "plt.xlabel(\"Regression Models\")\n",
    "plt.ylabel(\"Metrics\")\n",
    "plt.legend([\"MAE\", \"MSE\", \"RMSE\"], loc=9)\n",
    "plt.show()"
   ]
  },
  {
   "cell_type": "markdown",
   "id": "9072a321",
   "metadata": {},
   "source": [
    "### ARIMA time series forcasting"
   ]
  },
  {
   "cell_type": "code",
   "execution_count": 27,
   "id": "feb50b05",
   "metadata": {},
   "outputs": [
    {
     "ename": "ModuleNotFoundError",
     "evalue": "No module named 'pmdarima'",
     "output_type": "error",
     "traceback": [
      "\u001b[1;31m---------------------------------------------------------------------------\u001b[0m",
      "\u001b[1;31mModuleNotFoundError\u001b[0m                       Traceback (most recent call last)",
      "\u001b[1;32m~\\AppData\\Local\\Temp/ipykernel_27092/1763387368.py\u001b[0m in \u001b[0;36m<module>\u001b[1;34m\u001b[0m\n\u001b[1;32m----> 1\u001b[1;33m \u001b[1;32mfrom\u001b[0m \u001b[0mpmdarima\u001b[0m \u001b[1;32mimport\u001b[0m \u001b[0mauto_arima\u001b[0m\u001b[1;33m\u001b[0m\u001b[1;33m\u001b[0m\u001b[0m\n\u001b[0m",
      "\u001b[1;31mModuleNotFoundError\u001b[0m: No module named 'pmdarima'"
     ]
    }
   ],
   "source": [
    "\n",
    "from pmdarima import auto_arima\n",
    "from statsmodels.tsa.statespace.sarimax import SARIMAX\n",
    "\n",
    "df = df.dropna()\n",
    "  \n",
    "hyperparam = auto_arima(df['tavg'], seasonal = True, start_p = 1, start_q = 1, max_p = 3, max_q = 3, m = 12, start_P = 0, d = None, D = 1,error_action ='ignore', suppress_warnings = True, stepwise = True)  \n",
    "hyperparam.summary()"
   ]
  },
  {
   "cell_type": "markdown",
   "id": "2059712a",
   "metadata": {},
   "source": [
    "What we need from the auto_arima results above are the hyperparameters for our Arima model. Those can be acquired by looking at the model section of the summary. \n",
    "\n",
    "Since we are using a weather data set we instantiate that seasonality has impact on our model. We force our auto_arima hyperparameterization to account for seasonality by setting the parameter d to 1. \n",
    "\n",
    "Our results state that the parameters are:\n",
    "\n",
    "seasonl_order = (2, 1, [], 12)\n",
    "\n",
    "1. The integration order or the number of transformation is needed to make the time series stationary.\n",
    "2. The auto regressive order or the number of preceding values in the dataset use to predict the test values. \n",
    "3. The moving average order. In this case this is []\n",
    "4. The number of periods. In our case it is 12 as in 12 months. \n"
   ]
  },
  {
   "cell_type": "code",
   "execution_count": null,
   "id": "4a678366",
   "metadata": {},
   "outputs": [],
   "source": [
    "\n",
    "train = df.iloc[:len(df)-316]\n",
    "test = df.iloc[len(df)-316:]\n",
    "  \n",
    "model = SARIMAX(df['tavg'], seasonal_order =(2, 1, [], 12))\n",
    "  \n",
    "fitted_model = model.fit()\n",
    "fitted_model.summary()\n",
    "  \n",
    "predictions = fitted_model.predict(len(train), (len(train)+len(test)-1), yp = 'levels').rename(\"Predictions\")\n",
    "  \n",
    "predictions.plot(legend = True)\n",
    "test['tavg'].plot(legend = True)"
   ]
  },
  {
   "cell_type": "code",
   "execution_count": null,
   "id": "63b3cda8",
   "metadata": {},
   "outputs": [],
   "source": [
    "mae = mean_absolute_error(test['tavg'], predictions)\n",
    "mse = mean_squared_error(test['tavg'], predictions)\n",
    "rmse = math.sqrt(mse)\n",
    "\n",
    "print(\"Linear Regression Metrics:\")\n",
    "print(\"Mean Absolute Error: \", mae)\n",
    "print(\"Mean Squared Error: \", mse)\n",
    "print(\"Root Mean Squared Error: \", rmse)"
   ]
  },
  {
   "cell_type": "markdown",
   "id": "60142877",
   "metadata": {},
   "source": [
    "## Section 7: Reflection <br>"
   ]
  },
  {
   "cell_type": "markdown",
   "id": "e8e762c8",
   "metadata": {},
   "source": [
    "    o What is hardest part of the project that you’ve encountered so far?\n",
    "        We think that the hardest part of this project thus far is trying to be creative in finding ways to interpret data. What I mean by this is being able to find insight into places where insight may not be the most obvious.\n",
    "\n",
    "    o What are your initial insights?\n",
    "        The initial thoughts that we have about this project are that we picked a good topic in that we have a good amount of flexibility with the data since there is so much to work with. In addition being able to use the weather API as well as its respective python library has helped tremendously.\n",
    "\n",
    "    o Are there any concrete results you can show at this point? If not, why not?\n",
    "        Currently we can show investigations between rising temperatures by using visual representations for temperature data by comparing yearly trends between 1995 and 2021. In addition we also have some machine learning and general exploratory data analysis of yearly trends and what they could possibly mean.\n",
    "    \n",
    "    o Going forward, what are the current biggest problems you’re facing?\n",
    "        We think that the biggest problem we might face is how to aggregate the data from multiple weather stations, we can focus on the data one at a time but I think that it may be relevant to our project if we are able to focus on a bigger scale but this means handling significantly more data.\n",
    "\n",
    "    o Do you think you are on track with your project? If not, what parts do you\n",
    "    need to dedicate more time to?\n",
    "        We firmly believe that we are on the right track in regards to our project but we do think that perhaps the Machine Learning Analysis as well as the Visualizations could potentially be even better than they are now. \n",
    "\n",
    "    o Given your initial exploration of the data, is it worth proceeding with your\n",
    "    project, why? If not, how are you going to change your project and why do\n",
    "    you think it’s better than your current results?\n",
    "        We absolutely think that this is the right project for us and we look forward to being able to investigate our aforementioned goals. We are going continue making sure that all of our analysis comes together and that each section is properly organized. \n",
    "\n",
    "    \n",
    "\n",
    "    "
   ]
  },
  {
   "cell_type": "markdown",
   "id": "7b266aab",
   "metadata": {},
   "source": [
    "## Section 8: Next Steps <br>"
   ]
  },
  {
   "cell_type": "markdown",
   "id": "9f9fc90b",
   "metadata": {},
   "source": [
    "In the next month, we plan to perform 3 additional ML/statistical analyses as well as 3 additional visualizations. The MeteoStat library and API have vast amounts of different weather related data categories that can be very helpful towards helping us predict different types of weather events. We also plan to revisit the cleaning and refinement of our datasets to see if we can produce better results for the ML analysis featured in this report. In terms of how we plan to evaluate whether our project achieved the goals we set out for it, we will investigate how clearly our visualizations display and explain the datasets we are using. In addition to that, we will also review the performance of our ML and statistical models to make sure they would be useable in the real world to predict different types of weather events and climate patterns."
   ]
  },
  {
   "cell_type": "markdown",
   "id": "20288003",
   "metadata": {},
   "source": [
    "## Section 9: References <br>"
   ]
  },
  {
   "cell_type": "markdown",
   "id": "20bee84d",
   "metadata": {},
   "source": [
    "References Used For the Project:\n",
    "\n",
    "Data Collection:\n",
    "\n",
    "https://dev.meteostat.net/guide.html#about-meteostat\n",
    "\n",
    "Python Imports: \n",
    "\n",
    "https://pypi.org/project/requests/\n",
    "\n",
    "https://pandas.pydata.org/\n",
    "\n",
    "https://numpy.org/doc/stable/\n",
    "\n",
    "https://docs.python.org/3/library/datetime.html\n",
    "\n",
    "https://etav.github.io/python/vif_factor_python.html\n",
    "\n",
    "https://www.projectpro.io/recipes/what-is-statsmodel-library-python-and-install-statsmodel-library-windows\n",
    "\n",
    "https://scikit-learn.org/stable/modules/generated/sklearn.model_selection.train_test_split.html\n",
    "\n",
    "https://scikit-learn.org/stable/modules/generated/sklearn.tree.DecisionTreeRegressor.html\n",
    "\n",
    "https://scikit-learn.org/stable/modules/generated/sklearn.ensemble.RandomForestRegressor.html\n",
    "\n",
    "https://scikit-learn.org/stable/modules/generated/sklearn.model_selection.cross_val_score.html\n",
    "\n",
    "https://pythonsimplified.com/how-to-get-weather-data-in-python-using-meteostat/\n",
    "\n",
    "https://facebook.github.io/prophet/docs/quick_start.html#python-api\n"
   ]
  }
 ],
 "metadata": {
  "kernelspec": {
   "display_name": "Python 3.9.13 64-bit (microsoft store)",
   "language": "python",
   "name": "python3"
  },
  "language_info": {
   "codemirror_mode": {
    "name": "ipython",
    "version": 3
   },
   "file_extension": ".py",
   "mimetype": "text/x-python",
   "name": "python",
   "nbconvert_exporter": "python",
   "pygments_lexer": "ipython3",
   "version": "3.9.13"
  },
  "vscode": {
   "interpreter": {
    "hash": "a5aefb4c8a4476718213143185ce2cc232dcc9bba6c4e50134aa926326db9822"
   }
  }
 },
 "nbformat": 4,
 "nbformat_minor": 5
}
