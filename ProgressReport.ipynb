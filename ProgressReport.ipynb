{
 "cells": [
  {
   "cell_type": "code",
   "execution_count": null,
   "metadata": {},
   "outputs": [],
   "source": []
  },
  {
   "cell_type": "markdown",
   "metadata": {},
   "source": [
    "•Project introduction: an introduction that discusses the data you are analyzing, <br>\n",
    "and the question or questions you are investigating.\n",
    "• Any changes: a discussion whether your scope has changed since the check-in <br>\n",
    "proposal slides. What did you aim to do that you will not do and what have you<br>\n",
    "added to the project?<br>\n",
    "• Data cleaning: show clearly how you cleaned your data. <br>\n",
    "• Exploratory data analysis: explain what your data looks like (words are fine, but <br>\n",
    "visualizations are often better). Include any interesting issues or preliminary <br>\n",
    "conclusions you have about your data. <br>\n",
    "• At least one visualization that tests an interesting hypothesis, along with an <br>\n",
    "explanation about why you thought this was an interesting hypothesis to <br>\n",
    "investigate. <br>\n",
    "• At least one ML analysis on your dataset, along with a baseline comparison <br>\n",
    "and an interpretation of the result that you obtain. <br>\n",
    "\n",
    "• Reflection: a discussion of the following: <br>\n",
    "    o What is hardest part of the project that you’ve encountered so far? <br>\n",
    "    o What are your initial insights? <br>\n",
    "    o Are there any concrete results you can show at this point? If not, why not? <br>\n",
    "    o Going forward, what are the current biggest problems you’re facing? <br>\n",
    "    \n",
    "    o Do you think you are on track with your project? If not, what parts do you. <br>\n",
    "    need to dedicate more time to?  <br>\n",
    "    o Given your initial exploration of the data, is it worth proceeding with your \n",
    "    project, why? If not, how are you going to change your project and why do\n",
    "    you think it’s better than your current results?\n",
    "\n",
    "• Next steps: What you plan to accomplish in the next month and how you plan to\n",
    "evaluate whether your project achieved the goals you set for it."
   ]
  }
 ],
 "metadata": {
  "kernelspec": {
   "display_name": "Python 3.10.8 64-bit (microsoft store)",
   "language": "python",
   "name": "python3"
  },
  "language_info": {
   "name": "python",
   "version": "3.10.8"
  },
  "orig_nbformat": 4,
  "vscode": {
   "interpreter": {
    "hash": "69f721bbb5397f44ad53b1397d4eec2ac3595e1897207b04daf83ba447e62ac2"
   }
  }
 },
 "nbformat": 4,
 "nbformat_minor": 2
}
